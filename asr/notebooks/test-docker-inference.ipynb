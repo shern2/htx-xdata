{
 "cells": [
  {
   "cell_type": "code",
   "execution_count": null,
   "metadata": {},
   "outputs": [],
   "source": [
    "import shlex\n",
    "from pathlib import Path\n",
    "from subprocess import check_output\n",
    "\n",
    "valid_dev_raw_dir = Path(\"./asr/data/common_voice/cv-valid-dev/cv-valid-dev\")  # TODO update as needed"
   ]
  },
  {
   "cell_type": "code",
   "execution_count": 3,
   "metadata": {},
   "outputs": [],
   "source": [
    "resp = check_output(shlex.split(f\"curl -s http://localhost:8001/ping\"))\n",
    "assert resp.decode() == '\"pong\"'\n",
    "\n",
    "pth = valid_dev_raw_dir / \"sample-000000.mp3\"\n",
    "resp = check_output(shlex.split(f\"\"\"curl -s -F 'file=@{pth}' http://localhost:8001/asr\"\"\"))\n",
    "assert resp.decode() == '{\"transcription\":\"BE CAREFUL WITH YOUR PROGNOSTICATIONS SAID THE STRANGER\",\"duration\":\"5.064\"}'"
   ]
  }
 ],
 "metadata": {
  "kernelspec": {
   "display_name": "htx",
   "language": "python",
   "name": "python3"
  },
  "language_info": {
   "codemirror_mode": {
    "name": "ipython",
    "version": 3
   },
   "file_extension": ".py",
   "mimetype": "text/x-python",
   "name": "python",
   "nbconvert_exporter": "python",
   "pygments_lexer": "ipython3",
   "version": "3.8.20"
  }
 },
 "nbformat": 4,
 "nbformat_minor": 2
}
